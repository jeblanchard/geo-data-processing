{
 "cells": [
  {
   "cell_type": "code",
   "execution_count": 1,
   "metadata": {},
   "outputs": [],
   "source": [
    "from GEOpurify import GEOpurify"
   ]
  },
  {
   "cell_type": "code",
   "execution_count": 2,
   "metadata": {},
   "outputs": [
    {
     "name": "stdout",
     "output_type": "stream",
     "text": [
      "Help on module GEOpurify.GEOpurify in GEOpurify:\n",
      "\n",
      "NAME\n",
      "    GEOpurify.GEOpurify - # -*- coding: utf-8 -*-\n",
      "\n",
      "CLASSES\n",
      "    builtins.object\n",
      "        GEOpurifier\n",
      "    \n",
      "    class GEOpurifier(builtins.object)\n",
      "     |  GEOpurifier(datadir='data/')\n",
      "     |  \n",
      "     |  Methods defined here:\n",
      "     |  \n",
      "     |  __init__(self, datadir='data/')\n",
      "     |      Initialize self.  See help(type(self)) for accurate signature.\n",
      "     |  \n",
      "     |  dirpurify(self, dirname)\n",
      "     |      Using a path to the directory, return a DataFrame for training.\n",
      "     |      \n",
      "     |      Args:\n",
      "     |          dirname    (str) : path to the directory with files\n",
      "     |          separation (str) : separation in the table\n",
      "     |      Returns:\n",
      "     |          DataFrame: a DataFrame for training\n",
      "     |  \n",
      "     |  filepurify(self, filepath, separation='\\t')\n",
      "     |      Using a filepath, return a DataFrame for training.\n",
      "     |      \n",
      "     |      Args:\n",
      "     |          filepath   (str) : path to a file\n",
      "     |          separation (str) : separation in the table\n",
      "     |      Returns:\n",
      "     |          DataFrame: a DataFrame for training\n",
      "     |  \n",
      "     |  gdspolypurify(self, gds_list_path, load_extra_features=False)\n",
      "     |      From a list of GDS, return a DataFrame amicable for training.\n",
      "     |      \n",
      "     |      Args:\n",
      "     |          gds_list_path (str): path to a list of GDS ids.\n",
      "     |      Returns:\n",
      "     |          DataFrame: DataFrame of data for training\n",
      "     |  \n",
      "     |  gdspurify(self, gds_id, load_extra_features=False)\n",
      "     |      From GDS, return a DataFrame amicable for training.\n",
      "     |      \n",
      "     |      Args:\n",
      "     |          gds_id              (str) : GDS identification number\n",
      "     |          load_extra_features (bool): boolean switch for loading extra features\n",
      "     |      Returns:\n",
      "     |          DataFrame: DataFrame of data for training\n",
      "     |  \n",
      "     |  ----------------------------------------------------------------------\n",
      "     |  Data descriptors defined here:\n",
      "     |  \n",
      "     |  __dict__\n",
      "     |      dictionary for instance variables (if defined)\n",
      "     |  \n",
      "     |  __weakref__\n",
      "     |      list of weak references to the object (if defined)\n",
      "\n",
      "FILE\n",
      "    c:\\users\\blanc\\anaconda3\\lib\\site-packages\\geopurify\\geopurify.py\n",
      "\n",
      "\n"
     ]
    }
   ],
   "source": [
    "help(GEOpurify)"
   ]
  },
  {
   "cell_type": "code",
   "execution_count": null,
   "metadata": {},
   "outputs": [],
   "source": []
  }
 ],
 "metadata": {
  "kernelspec": {
   "display_name": "Python 3",
   "language": "python",
   "name": "python3"
  },
  "language_info": {
   "codemirror_mode": {
    "name": "ipython",
    "version": 3
   },
   "file_extension": ".py",
   "mimetype": "text/x-python",
   "name": "python",
   "nbconvert_exporter": "python",
   "pygments_lexer": "ipython3",
   "version": "3.8.5"
  }
 },
 "nbformat": 4,
 "nbformat_minor": 4
}
