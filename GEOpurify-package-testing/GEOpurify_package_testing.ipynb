{
 "cells": [
  {
   "cell_type": "code",
   "execution_count": 15,
   "metadata": {},
   "outputs": [],
   "source": [
    "from GEOpurify import GEOpurify\n",
    "import os"
   ]
  },
  {
   "cell_type": "code",
   "execution_count": 16,
   "metadata": {},
   "outputs": [
    {
     "name": "stdout",
     "output_type": "stream",
     "text": [
      "Help on module GEOpurify.GEOpurify in GEOpurify:\n",
      "\n",
      "NAME\n",
      "    GEOpurify.GEOpurify - # -*- coding: utf-8 -*-\n",
      "\n",
      "CLASSES\n",
      "    builtins.object\n",
      "        GEOpurifier\n",
      "    \n",
      "    class GEOpurifier(builtins.object)\n",
      "     |  GEOpurifier(datadir='data/')\n",
      "     |  \n",
      "     |  Methods defined here:\n",
      "     |  \n",
      "     |  __init__(self, datadir='data/')\n",
      "     |      Initialize self.  See help(type(self)) for accurate signature.\n",
      "     |  \n",
      "     |  dirpurify(self, dirname)\n",
      "     |      Using a path to the directory, return a DataFrame for training.\n",
      "     |      \n",
      "     |      Args:\n",
      "     |          dirname    (str) : path to the directory with files\n",
      "     |          separation (str) : separation in the table\n",
      "     |      Returns:\n",
      "     |          DataFrame: a DataFrame for training\n",
      "     |  \n",
      "     |  filepurify(self, filepath, separation='\\t')\n",
      "     |      Using a filepath, return a DataFrame for training.\n",
      "     |      \n",
      "     |      Args:\n",
      "     |          filepath   (str) : path to a file\n",
      "     |          separation (str) : separation in the table\n",
      "     |      Returns:\n",
      "     |          DataFrame: a DataFrame for training\n",
      "     |  \n",
      "     |  gdspolypurify(self, gds_list_path, load_extra_features=False)\n",
      "     |      From a list of GDS, return a DataFrame amicable for training.\n",
      "     |      \n",
      "     |      Args:\n",
      "     |          gds_list_path (str): path to a list of GDS ids.\n",
      "     |      Returns:\n",
      "     |          DataFrame: DataFrame of data for training\n",
      "     |  \n",
      "     |  gdspurify(self, gds_id, load_extra_features=False)\n",
      "     |      From GDS, return a DataFrame amicable for training.\n",
      "     |      \n",
      "     |      Args:\n",
      "     |          gds_id              (str) : GDS identification number\n",
      "     |          load_extra_features (bool): boolean switch for loading extra features\n",
      "     |      Returns:\n",
      "     |          DataFrame: DataFrame of data for training\n",
      "     |  \n",
      "     |  ----------------------------------------------------------------------\n",
      "     |  Data descriptors defined here:\n",
      "     |  \n",
      "     |  __dict__\n",
      "     |      dictionary for instance variables (if defined)\n",
      "     |  \n",
      "     |  __weakref__\n",
      "     |      list of weak references to the object (if defined)\n",
      "\n",
      "FILE\n",
      "    c:\\users\\blanc\\anaconda3\\lib\\site-packages\\geopurify\\geopurify.py\n",
      "\n",
      "\n"
     ]
    }
   ],
   "source": [
    "help(GEOpurify)"
   ]
  },
  {
   "cell_type": "code",
   "execution_count": 17,
   "metadata": {},
   "outputs": [],
   "source": [
    "# help(os)"
   ]
  },
  {
   "cell_type": "code",
   "execution_count": 18,
   "metadata": {},
   "outputs": [
    {
     "data": {
      "text/plain": [
       "['GSE20236', 'GSE20242', 'GSE22595', 'GSE25892', 'GSE26126']"
      ]
     },
     "execution_count": 18,
     "metadata": {},
     "output_type": "execute_result"
    }
   ],
   "source": [
    "data_path = os.path.abspath(\"./testing-data/\")\n",
    "test_families = os.listdir(data_path)\n",
    "test_families"
   ]
  },
  {
   "cell_type": "code",
   "execution_count": 19,
   "metadata": {},
   "outputs": [
    {
     "ename": "NameError",
     "evalue": "name 'test_path' is not defined",
     "output_type": "error",
     "traceback": [
      "\u001b[1;31m---------------------------------------------------------------------------\u001b[0m",
      "\u001b[1;31mNameError\u001b[0m                                 Traceback (most recent call last)",
      "\u001b[1;32m<ipython-input-19-a8e87f10e7a9>\u001b[0m in \u001b[0;36m<module>\u001b[1;34m\u001b[0m\n\u001b[1;32m----> 1\u001b[1;33m \u001b[0mos\u001b[0m\u001b[1;33m.\u001b[0m\u001b[0mpath\u001b[0m\u001b[1;33m.\u001b[0m\u001b[0mexists\u001b[0m\u001b[1;33m(\u001b[0m\u001b[0mtest_path\u001b[0m\u001b[1;33m)\u001b[0m\u001b[1;33m\u001b[0m\u001b[1;33m\u001b[0m\u001b[0m\n\u001b[0m",
      "\u001b[1;31mNameError\u001b[0m: name 'test_path' is not defined"
     ]
    }
   ],
   "source": [
    "os.path.exists(test_path)"
   ]
  },
  {
   "cell_type": "code",
   "execution_count": null,
   "metadata": {},
   "outputs": [],
   "source": [
    "g = GEOpurify.GEOpurifier()\n",
    "matrix_path = os.path.join(data_path, test_families[0], \"GSE20236_series_matrix.txt\", \"GSE20236_series_matrix.txt\")\n",
    "matrix_df = g.filepurify(matrix_path)\n",
    "# doesn't work for series matrix files"
   ]
  },
  {
   "cell_type": "code",
   "execution_count": null,
   "metadata": {},
   "outputs": [],
   "source": [
    "soft_path = os.path.join(data_path, test_families[0], \"GSE20236_family.soft\", \"GSE20236_family.soft\")\n",
    "soft_df = g.filepurify(matrix_path)\n",
    "\n",
    "# doesn't work for soft files"
   ]
  },
  {
   "cell_type": "code",
   "execution_count": null,
   "metadata": {},
   "outputs": [],
   "source": [
    "# wanted to try the miniml file for the hell of it\n",
    "\n",
    "miniml_path = os.path.join(data_path, test_families[0], \"GSE20236_family.xml\")\n",
    "miniml_df = g.filepurify(matrix_path)"
   ]
  },
  {
   "cell_type": "code",
   "execution_count": 14,
   "metadata": {
    "scrolled": true
   },
   "outputs": [
    {
     "name": "stderr",
     "output_type": "stream",
     "text": [
      "27-May-2021 15:36:41 DEBUG utils - Directory data/gds already exists. Skipping.\n",
      "27-May-2021 15:36:42 INFO GEOparse - Downloading ftp://ftp.ncbi.nlm.nih.gov/geo/datasets/GDS5nnn/GDS5662/soft/GDS5662.soft.gz to data/gds\\GDS5662.soft.gz\n",
      "100%|██████████| 1.99M/1.99M [00:02<00:00, 935kB/s] \n",
      "27-May-2021 15:36:45 DEBUG downloader - Size validation passed\n",
      "27-May-2021 15:36:45 DEBUG downloader - Moving C:\\Users\\blanc\\AppData\\Local\\Temp\\tmpnsi15ebr to C:\\Users\\blanc\\general-cs\\conboy-lab\\geo-data-processing\\GEOpurify-package-testing\\data\\gds\\GDS5662.soft.gz\n",
      "27-May-2021 15:36:45 DEBUG downloader - Successfully downloaded ftp://ftp.ncbi.nlm.nih.gov/geo/datasets/GDS5nnn/GDS5662/soft/GDS5662.soft.gz\n",
      "27-May-2021 15:36:45 INFO GEOparse - Parsing data/gds\\GDS5662.soft.gz: \n",
      "27-May-2021 15:36:45 DEBUG GEOparse - DATABASE: Geo\n",
      "27-May-2021 15:36:45 DEBUG GEOparse - DATASET: GDS5662\n",
      "27-May-2021 15:36:45 DEBUG GEOparse - SUBSET: GDS5662_1\n",
      "27-May-2021 15:36:45 DEBUG GEOparse - SUBSET: GDS5662_2\n",
      "27-May-2021 15:36:45 DEBUG GEOparse - SUBSET: GDS5662_3\n",
      "27-May-2021 15:36:45 DEBUG GEOparse - SUBSET: GDS5662_4\n",
      "27-May-2021 15:36:45 DEBUG GEOparse - DATASET: GDS5662\n"
     ]
    },
    {
     "name": "stdout",
     "output_type": "stream",
     "text": [
      "Saved a dataframe GDS5662.\n"
     ]
    },
    {
     "data": {
      "text/html": [
       "<div>\n",
       "<style scoped>\n",
       "    .dataframe tbody tr th:only-of-type {\n",
       "        vertical-align: middle;\n",
       "    }\n",
       "\n",
       "    .dataframe tbody tr th {\n",
       "        vertical-align: top;\n",
       "    }\n",
       "\n",
       "    .dataframe thead th {\n",
       "        text-align: right;\n",
       "    }\n",
       "</style>\n",
       "<table border=\"1\" class=\"dataframe\">\n",
       "  <thead>\n",
       "    <tr style=\"text-align: right;\">\n",
       "      <th></th>\n",
       "      <th>ID_REF</th>\n",
       "      <th>IDENTIFIER</th>\n",
       "      <th>EXPRESSION</th>\n",
       "      <th>GSM</th>\n",
       "      <th>PLATFORM</th>\n",
       "      <th>PLATFORM_ORGANISM</th>\n",
       "      <th>PLATFORM_TECHNOLOGY_TYPE</th>\n",
       "      <th>SAMPLE_ORGANISM</th>\n",
       "    </tr>\n",
       "  </thead>\n",
       "  <tbody>\n",
       "    <tr>\n",
       "      <th>0</th>\n",
       "      <td>ILMN_1343048</td>\n",
       "      <td>ILMN_1343048</td>\n",
       "      <td>NaN</td>\n",
       "      <td>GSM1686438</td>\n",
       "      <td>GPL10558</td>\n",
       "      <td>Homo sapiens</td>\n",
       "      <td>oligonucleotide beads</td>\n",
       "      <td>Homo sapiens</td>\n",
       "    </tr>\n",
       "    <tr>\n",
       "      <th>1</th>\n",
       "      <td>ILMN_1343049</td>\n",
       "      <td>ILMN_1343049</td>\n",
       "      <td>NaN</td>\n",
       "      <td>GSM1686438</td>\n",
       "      <td>GPL10558</td>\n",
       "      <td>Homo sapiens</td>\n",
       "      <td>oligonucleotide beads</td>\n",
       "      <td>Homo sapiens</td>\n",
       "    </tr>\n",
       "    <tr>\n",
       "      <th>2</th>\n",
       "      <td>ILMN_1343050</td>\n",
       "      <td>ILMN_1343050</td>\n",
       "      <td>NaN</td>\n",
       "      <td>GSM1686438</td>\n",
       "      <td>GPL10558</td>\n",
       "      <td>Homo sapiens</td>\n",
       "      <td>oligonucleotide beads</td>\n",
       "      <td>Homo sapiens</td>\n",
       "    </tr>\n",
       "    <tr>\n",
       "      <th>3</th>\n",
       "      <td>ILMN_1343052</td>\n",
       "      <td>ILMN_1343052</td>\n",
       "      <td>NaN</td>\n",
       "      <td>GSM1686438</td>\n",
       "      <td>GPL10558</td>\n",
       "      <td>Homo sapiens</td>\n",
       "      <td>oligonucleotide beads</td>\n",
       "      <td>Homo sapiens</td>\n",
       "    </tr>\n",
       "    <tr>\n",
       "      <th>4</th>\n",
       "      <td>ILMN_1343059</td>\n",
       "      <td>ILMN_1343059</td>\n",
       "      <td>NaN</td>\n",
       "      <td>GSM1686438</td>\n",
       "      <td>GPL10558</td>\n",
       "      <td>Homo sapiens</td>\n",
       "      <td>oligonucleotide beads</td>\n",
       "      <td>Homo sapiens</td>\n",
       "    </tr>\n",
       "    <tr>\n",
       "      <th>...</th>\n",
       "      <td>...</td>\n",
       "      <td>...</td>\n",
       "      <td>...</td>\n",
       "      <td>...</td>\n",
       "      <td>...</td>\n",
       "      <td>...</td>\n",
       "      <td>...</td>\n",
       "      <td>...</td>\n",
       "    </tr>\n",
       "    <tr>\n",
       "      <th>529172</th>\n",
       "      <td>ILMN_3311170</td>\n",
       "      <td>ILMN_3311170</td>\n",
       "      <td>6.57529</td>\n",
       "      <td>GSM1686443</td>\n",
       "      <td>GPL10558</td>\n",
       "      <td>Homo sapiens</td>\n",
       "      <td>oligonucleotide beads</td>\n",
       "      <td>Homo sapiens</td>\n",
       "    </tr>\n",
       "    <tr>\n",
       "      <th>529173</th>\n",
       "      <td>ILMN_3311175</td>\n",
       "      <td>ILMN_3311175</td>\n",
       "      <td>6.42717</td>\n",
       "      <td>GSM1686443</td>\n",
       "      <td>GPL10558</td>\n",
       "      <td>Homo sapiens</td>\n",
       "      <td>oligonucleotide beads</td>\n",
       "      <td>Homo sapiens</td>\n",
       "    </tr>\n",
       "    <tr>\n",
       "      <th>529174</th>\n",
       "      <td>ILMN_3311180</td>\n",
       "      <td>ILMN_3311180</td>\n",
       "      <td>6.68115</td>\n",
       "      <td>GSM1686443</td>\n",
       "      <td>GPL10558</td>\n",
       "      <td>Homo sapiens</td>\n",
       "      <td>oligonucleotide beads</td>\n",
       "      <td>Homo sapiens</td>\n",
       "    </tr>\n",
       "    <tr>\n",
       "      <th>529175</th>\n",
       "      <td>ILMN_3311185</td>\n",
       "      <td>ILMN_3311185</td>\n",
       "      <td>6.30763</td>\n",
       "      <td>GSM1686443</td>\n",
       "      <td>GPL10558</td>\n",
       "      <td>Homo sapiens</td>\n",
       "      <td>oligonucleotide beads</td>\n",
       "      <td>Homo sapiens</td>\n",
       "    </tr>\n",
       "    <tr>\n",
       "      <th>529176</th>\n",
       "      <td>ILMN_3311190</td>\n",
       "      <td>LINC00173</td>\n",
       "      <td>6.61235</td>\n",
       "      <td>GSM1686443</td>\n",
       "      <td>GPL10558</td>\n",
       "      <td>Homo sapiens</td>\n",
       "      <td>oligonucleotide beads</td>\n",
       "      <td>Homo sapiens</td>\n",
       "    </tr>\n",
       "  </tbody>\n",
       "</table>\n",
       "<p>529177 rows × 8 columns</p>\n",
       "</div>"
      ],
      "text/plain": [
       "              ID_REF    IDENTIFIER  EXPRESSION         GSM  PLATFORM  \\\n",
       "0       ILMN_1343048  ILMN_1343048         NaN  GSM1686438  GPL10558   \n",
       "1       ILMN_1343049  ILMN_1343049         NaN  GSM1686438  GPL10558   \n",
       "2       ILMN_1343050  ILMN_1343050         NaN  GSM1686438  GPL10558   \n",
       "3       ILMN_1343052  ILMN_1343052         NaN  GSM1686438  GPL10558   \n",
       "4       ILMN_1343059  ILMN_1343059         NaN  GSM1686438  GPL10558   \n",
       "...              ...           ...         ...         ...       ...   \n",
       "529172  ILMN_3311170  ILMN_3311170     6.57529  GSM1686443  GPL10558   \n",
       "529173  ILMN_3311175  ILMN_3311175     6.42717  GSM1686443  GPL10558   \n",
       "529174  ILMN_3311180  ILMN_3311180     6.68115  GSM1686443  GPL10558   \n",
       "529175  ILMN_3311185  ILMN_3311185     6.30763  GSM1686443  GPL10558   \n",
       "529176  ILMN_3311190     LINC00173     6.61235  GSM1686443  GPL10558   \n",
       "\n",
       "       PLATFORM_ORGANISM PLATFORM_TECHNOLOGY_TYPE SAMPLE_ORGANISM  \n",
       "0           Homo sapiens    oligonucleotide beads    Homo sapiens  \n",
       "1           Homo sapiens    oligonucleotide beads    Homo sapiens  \n",
       "2           Homo sapiens    oligonucleotide beads    Homo sapiens  \n",
       "3           Homo sapiens    oligonucleotide beads    Homo sapiens  \n",
       "4           Homo sapiens    oligonucleotide beads    Homo sapiens  \n",
       "...                  ...                      ...             ...  \n",
       "529172      Homo sapiens    oligonucleotide beads    Homo sapiens  \n",
       "529173      Homo sapiens    oligonucleotide beads    Homo sapiens  \n",
       "529174      Homo sapiens    oligonucleotide beads    Homo sapiens  \n",
       "529175      Homo sapiens    oligonucleotide beads    Homo sapiens  \n",
       "529176      Homo sapiens    oligonucleotide beads    Homo sapiens  \n",
       "\n",
       "[529177 rows x 8 columns]"
      ]
     },
     "execution_count": 14,
     "metadata": {},
     "output_type": "execute_result"
    }
   ],
   "source": [
    "gds_df = g.gdspurify(\"GDS5662\")\n",
    "gds_df"
   ]
  }
 ],
 "metadata": {
  "kernelspec": {
   "display_name": "Python 3",
   "language": "python",
   "name": "python3"
  },
  "language_info": {
   "codemirror_mode": {
    "name": "ipython",
    "version": 3
   },
   "file_extension": ".py",
   "mimetype": "text/x-python",
   "name": "python",
   "nbconvert_exporter": "python",
   "pygments_lexer": "ipython3",
   "version": "3.8.5"
  }
 },
 "nbformat": 4,
 "nbformat_minor": 4
}
